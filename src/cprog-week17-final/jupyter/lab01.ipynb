{
 "cells": [
  {
   "cell_type": "markdown",
   "id": "a1efb832-cd9d-44d6-992b-eae6bd54f108",
   "metadata": {},
   "source": [
    "### [課堂練習 1]：二維陣列基本作運用"
   ]
  },
  {
   "cell_type": "code",
   "execution_count": 19,
   "id": "a30e1698-8c83-4161-abea-25a20d914964",
   "metadata": {},
   "outputs": [],
   "source": [
    "#include <iostream>\n",
    "#include <iomanip>\n",
    "\n",
    "using namespace std;"
   ]
  },
  {
   "cell_type": "markdown",
   "id": "0e388ee9-b655-49f1-ba05-57fa5150e216",
   "metadata": {},
   "source": [
    "### 定義二維陣列"
   ]
  },
  {
   "cell_type": "code",
   "execution_count": 20,
   "id": "cbddf83c-4732-49ec-9d28-8e30d856c3ac",
   "metadata": {},
   "outputs": [],
   "source": [
    "int a1[5][3] = {{1,1,1},{2,2,2},{3,3,3},{4,4,4},{5,5,5}};"
   ]
  },
  {
   "cell_type": "markdown",
   "id": "5ab24e4b-682a-40d1-a658-ce99652a5539",
   "metadata": {
    "tags": []
   },
   "source": [
    "### 讀出二維陣列中的第一列(column)"
   ]
  },
  {
   "cell_type": "code",
   "execution_count": 21,
   "id": "8978f496-a220-42a0-9bd8-4c7bfdd1aab2",
   "metadata": {},
   "outputs": [
    {
     "name": "stdout",
     "output_type": "stream",
     "text": [
      "a1[0][0] = 1\n",
      "a1[1][0] = 2\n",
      "a1[2][0] = 3\n",
      "a1[3][0] = 4\n",
      "a1[4][0] = 5\n"
     ]
    }
   ],
   "source": [
    "int a1[5][3] = {{1,1,1},{2,2,2},{3,3,3},{4,4,4},{5,5,5}};\n",
    "cout<<\"a1[0][0] = \"<<a1[0][0]<<endl;\n",
    "cout<<\"a1[1][0] = \"<<a1[1][0]<<endl;\n",
    "cout<<\"a1[2][0] = \"<<a1[2][0]<<endl;\n",
    "cout<<\"a1[3][0] = \"<<a1[3][0]<<endl;\n",
    "cout<<\"a1[4][0] = \"<<a1[4][0]<<endl;"
   ]
  },
  {
   "cell_type": "markdown",
   "id": "1b8a9465-b03c-4087-bf70-3930cc05b25f",
   "metadata": {
    "tags": []
   },
   "source": [
    "### 寫入二維陣列中的第一列(column)"
   ]
  },
  {
   "cell_type": "code",
   "execution_count": 22,
   "id": "df5d60a1-e010-4b4f-95fb-ad7637bfe74a",
   "metadata": {},
   "outputs": [
    {
     "name": "stdout",
     "output_type": "stream",
     "text": [
      "a1[0][0] = 11\n",
      "a1[1][0] = 22\n",
      "a1[2][0] = 33\n",
      "a1[3][0] = 44\n",
      "a1[4][0] = 55\n"
     ]
    }
   ],
   "source": [
    "int a1[5][3] = {{1,1,1},{2,2,2},{3,3,3},{4,4,4},{5,5,5}};\n",
    "a1[0][0] = 11;\n",
    "a1[1][0] = 22;\n",
    "a1[2][0] = 33;\n",
    "a1[3][0] = 44;\n",
    "a1[4][0] = 55;\n",
    "cout<<\"a1[0][0] = \"<<a1[0][0]<<endl;\n",
    "cout<<\"a1[1][0] = \"<<a1[1][0]<<endl;\n",
    "cout<<\"a1[2][0] = \"<<a1[2][0]<<endl;\n",
    "cout<<\"a1[3][0] = \"<<a1[3][0]<<endl;\n",
    "cout<<\"a1[4][0] = \"<<a1[4][0]<<endl;"
   ]
  },
  {
   "cell_type": "markdown",
   "id": "7e2bb4b9-a252-47eb-8e8c-681fb79ef644",
   "metadata": {
    "tags": []
   },
   "source": [
    "### 讀出二維陣列中的第一行(row)"
   ]
  },
  {
   "cell_type": "code",
   "execution_count": 23,
   "id": "ff1d0bb9-a20a-417e-ab98-b4add1de5f1c",
   "metadata": {},
   "outputs": [
    {
     "name": "stdout",
     "output_type": "stream",
     "text": [
      "a1[0][0] = 1\n",
      "a1[0][1] = 1\n",
      "a1[0][2] = 1\n"
     ]
    }
   ],
   "source": [
    "int a1[5][3] = {{1,1,1},{2,2,2},{3,3,3},{4,4,4},{5,5,5}};\n",
    "cout<<\"a1[0][0] = \"<<a1[0][0]<<endl;\n",
    "cout<<\"a1[0][1] = \"<<a1[0][1]<<endl;\n",
    "cout<<\"a1[0][2] = \"<<a1[0][2]<<endl;"
   ]
  },
  {
   "cell_type": "markdown",
   "id": "1f1d73ad-c3ac-4a2f-ad69-5a0d84cd7df8",
   "metadata": {
    "tags": []
   },
   "source": [
    "### 寫入二維陣列中的第一行(row)"
   ]
  },
  {
   "cell_type": "code",
   "execution_count": 24,
   "id": "e4c5d0be-c787-4d72-9b70-1b4f5f7ad929",
   "metadata": {},
   "outputs": [
    {
     "name": "stdout",
     "output_type": "stream",
     "text": [
      "a1[0][0] = 55\n",
      "a1[0][1] = 66\n",
      "a1[0][2] = 77\n"
     ]
    }
   ],
   "source": [
    "int a1[5][3] = {{1,1,1},{2,2,2},{3,3,3},{4,4,4},{5,5,5}};\n",
    "a1[0][0] = 55;\n",
    "a1[0][1] = 66;\n",
    "a1[0][2] = 77;\n",
    "cout<<\"a1[0][0] = \"<<a1[0][0]<<endl;\n",
    "cout<<\"a1[0][1] = \"<<a1[0][1]<<endl;\n",
    "cout<<\"a1[0][2] = \"<<a1[0][2]<<endl;"
   ]
  },
  {
   "cell_type": "markdown",
   "id": "218a88c0-8cad-4b2b-849f-2856be555dd2",
   "metadata": {
    "tags": []
   },
   "source": [
    "### 二維陣列輸出函數\n",
    "- d   ：二維陣列\n",
    "- row ：陣列 d 行數(row)\n",
    "\n",
    "#### 將二維陣列傳遞給函數，陣列的`列(column)必須固定`。"
   ]
  },
  {
   "cell_type": "code",
   "execution_count": 25,
   "id": "5bf9e566-d519-4319-a9c5-fa9d7b646867",
   "metadata": {
    "tags": []
   },
   "outputs": [],
   "source": [
    "#define COL 3\n",
    "\n",
    "void dump3(int d[][COL], int row) {\n",
    "    for(int r=0; r<row; r++) {\n",
    "        for(int c=0; c<COL; c++) {\n",
    "            cout<<setw(4)<<d[r][c];\n",
    "        }\n",
    "        cout<<endl;\n",
    "    }\n",
    "    cout<<endl;\n",
    "}"
   ]
  },
  {
   "cell_type": "markdown",
   "id": "f0e45d08-a93e-445e-83da-b6f700d5e6fd",
   "metadata": {},
   "source": [
    "#### 印出 5 x 3 的二維陣列/矩陣(matrix)"
   ]
  },
  {
   "cell_type": "code",
   "execution_count": 26,
   "id": "8b357553-0e12-48e4-af1d-c6a4220806bf",
   "metadata": {},
   "outputs": [
    {
     "name": "stdout",
     "output_type": "stream",
     "text": [
      "   1   1   1\n",
      "   2   2   2\n",
      "   3   3   3\n",
      "   4   4   4\n",
      "   5   5   5\n",
      "\n"
     ]
    }
   ],
   "source": [
    "int a1[5][3] = {{1,1,1},{2,2,2},{3,3,3},{4,4,4},{5,5,5}};\n",
    "dump3(a1,5);"
   ]
  },
  {
   "cell_type": "markdown",
   "id": "b6de5f47-3ef0-4c6f-a1cd-85cff1dd3b07",
   "metadata": {},
   "source": [
    "#### 印出 3 x 3 的二維陣列/矩陣(matrix)"
   ]
  },
  {
   "cell_type": "code",
   "execution_count": 27,
   "id": "a6ee87d5-41c5-465e-a653-b20fe511a11d",
   "metadata": {},
   "outputs": [
    {
     "name": "stdout",
     "output_type": "stream",
     "text": [
      "  11  11  11\n",
      "  22  22  22\n",
      "  33  33  33\n",
      "\n"
     ]
    }
   ],
   "source": [
    "int a1[3][3] = {{11,11,11},{22,22,22},{33,33,33}};\n",
    "dump3(a1,3);"
   ]
  },
  {
   "cell_type": "code",
   "execution_count": 28,
   "id": "efd06e87-ae50-48e7-b9d5-9ac0f9721928",
   "metadata": {},
   "outputs": [
    {
     "name": "stdout",
     "output_type": "stream",
     "text": [
      "   1   1   1\n",
      "   2   2   2\n",
      "   3   3   3\n",
      "   4   4   4\n",
      "   5   5   5\n",
      "\n"
     ]
    }
   ],
   "source": [
    "int a1[5][3] = {{1,1,1},{2,2,2},{3,3,3},{4,4,4},{5,5,5}};\n",
    "dump3(a1,5);"
   ]
  },
  {
   "cell_type": "markdown",
   "id": "1c5e3336-36a8-40a0-b9bd-e8db01aa7e0e",
   "metadata": {},
   "source": [
    "### 將特定數值填入 row x 5 二維陣列的函數\n",
    "- d   ：二維陣列\n",
    "- row ：陣列 d 行數(row)\n",
    "- val ：填入陣列的數值\n",
    "\n",
    "#### 將二維陣列傳遞給函數，陣列的`列(column)必須固定`。"
   ]
  },
  {
   "cell_type": "code",
   "execution_count": 29,
   "id": "525c68f7-773f-4eb7-bc3d-cad3c3e3b42c",
   "metadata": {
    "tags": []
   },
   "outputs": [],
   "source": [
    "void fill5(int d[][5], int row, int val) {\n",
    "    for(int r=0; r<row; r++) {\n",
    "        for(int c=0; c<5; c++) {\n",
    "            d[r][c] = val;\n",
    "        }\n",
    "    }\n",
    "}"
   ]
  },
  {
   "cell_type": "code",
   "execution_count": 30,
   "id": "e80df198-cdec-4334-bf74-9799e4498171",
   "metadata": {
    "tags": []
   },
   "outputs": [],
   "source": [
    "void dump5(int d[][5], int row) {\n",
    "    for(int r=0; r<row; r++) {\n",
    "        for(int c=0; c<5; c++) {\n",
    "            cout<<setw(4)<<d[r][c];\n",
    "        }\n",
    "        cout<<endl;\n",
    "    }\n",
    "    cout<<endl;\n",
    "}"
   ]
  },
  {
   "cell_type": "code",
   "execution_count": 31,
   "id": "109bdd4a-4672-4f49-a378-13cbb080c98a",
   "metadata": {},
   "outputs": [
    {
     "name": "stdout",
     "output_type": "stream",
     "text": [
      "  88  88  88  88  88\n",
      "  88  88  88  88  88\n",
      "  88  88  88  88  88\n",
      "\n"
     ]
    }
   ],
   "source": [
    "int a2[3][5];\n",
    "fill5(a2,3,88);\n",
    "dump5(a2,3);"
   ]
  },
  {
   "cell_type": "code",
   "execution_count": 32,
   "id": "4df3d43d-9400-451b-a539-626dd93dd5b4",
   "metadata": {},
   "outputs": [
    {
     "name": "stdout",
     "output_type": "stream",
     "text": [
      "   9   9   9   9   9\n",
      "   9   9   9   9   9\n",
      "   9   9   9   9   9\n",
      "   9   9   9   9   9\n",
      "   9   9   9   9   9\n",
      "   9   9   9   9   9\n",
      "\n"
     ]
    }
   ],
   "source": [
    "int a3[6][5];\n",
    "fill5(a3,6,9);\n",
    "dump5(a3,6);"
   ]
  },
  {
   "cell_type": "markdown",
   "id": "4479147a-0a50-4c80-885d-f551f794bf90",
   "metadata": {},
   "source": [
    "### 將 row x 5 二維陣列所有元素初始為 0 的函數\n",
    "- d   ：二維陣列\n",
    "- row ：陣列 d 行數(row)"
   ]
  },
  {
   "cell_type": "code",
   "execution_count": 33,
   "id": "3342851e-f939-408d-829b-f41a58484383",
   "metadata": {},
   "outputs": [],
   "source": [
    "void zero5(int d[][5], int row) {\n",
    "    fill5(d,row,0);\n",
    "}"
   ]
  },
  {
   "cell_type": "code",
   "execution_count": 34,
   "id": "e698ede6-1730-48e8-9bda-a1ccccc87cf0",
   "metadata": {},
   "outputs": [
    {
     "name": "stdout",
     "output_type": "stream",
     "text": [
      "   0   0   0   0   0\n",
      "   0   0   0   0   0\n",
      "   0   0   0   0   0\n",
      "   0   0   0   0   0\n",
      "   0   0   0   0   0\n",
      "   0   0   0   0   0\n",
      "   0   0   0   0   0\n",
      "   0   0   0   0   0\n",
      "\n"
     ]
    }
   ],
   "source": [
    "int a4[8][5];\n",
    "zero5(a4,8);\n",
    "dump5(a4,8);"
   ]
  },
  {
   "cell_type": "markdown",
   "id": "53acdf85-63f5-43ac-9e9d-9c821c367db6",
   "metadata": {},
   "source": [
    "### 將 row x 5 二維陣列所有元素初始為 7 的函數\n",
    "- d   ：二維陣列\n",
    "- row ：陣列 d 行數(row)"
   ]
  },
  {
   "cell_type": "code",
   "execution_count": 35,
   "id": "78e11e84-dc8b-4bc3-9852-a74726ab9425",
   "metadata": {},
   "outputs": [],
   "source": [
    "void seven5(int d[][5], int row) {\n",
    "    fill5(d,row,7);\n",
    "}"
   ]
  },
  {
   "cell_type": "code",
   "execution_count": 36,
   "id": "65b884bd-10f4-49a9-ad08-ba526def876f",
   "metadata": {},
   "outputs": [
    {
     "name": "stdout",
     "output_type": "stream",
     "text": [
      "   7   7   7   7   7\n",
      "   7   7   7   7   7\n",
      "   7   7   7   7   7\n",
      "   7   7   7   7   7\n",
      "   7   7   7   7   7\n",
      "\n"
     ]
    }
   ],
   "source": [
    "int a5[5][5];\n",
    "seven5(a5,5);\n",
    "dump5(a5,5);"
   ]
  }
 ],
 "metadata": {
  "kernelspec": {
   "display_name": "C++14",
   "language": "C++14",
   "name": "xcpp14"
  },
  "language_info": {
   "codemirror_mode": "text/x-c++src",
   "file_extension": ".cpp",
   "mimetype": "text/x-c++src",
   "name": "c++",
   "version": "14"
  }
 },
 "nbformat": 4,
 "nbformat_minor": 5
}
