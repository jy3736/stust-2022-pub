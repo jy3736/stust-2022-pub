{
 "cells": [
  {
   "cell_type": "markdown",
   "id": "767ab8f9-de2b-4af3-8ead-3bb8b62745fb",
   "metadata": {},
   "source": [
    "### [課堂練習 03]：二維陣列以列(column)為基準的操作"
   ]
  },
  {
   "cell_type": "code",
   "execution_count": 1,
   "id": "a30e1698-8c83-4161-abea-25a20d914964",
   "metadata": {},
   "outputs": [],
   "source": [
    "#include <iostream>\n",
    "#include <iomanip>\n",
    "\n",
    "using namespace std;"
   ]
  },
  {
   "cell_type": "markdown",
   "id": "668c4447-993f-42e1-918c-eaae4abc2cca",
   "metadata": {
    "tags": []
   },
   "source": [
    "### 6 x 6 二維陣列輸出函數\n",
    "- d   ：二維陣列\n",
    "\n",
    "#### 將二維陣列傳遞給函數，陣列的`列(column)必須固定`。"
   ]
  },
  {
   "cell_type": "code",
   "execution_count": 3,
   "id": "5aff9f73-ca97-4175-a659-c3609538c56a",
   "metadata": {
    "tags": []
   },
   "outputs": [],
   "source": [
    "void dump66(int d[6][6]) {\n",
    "    for(int r=0; r<6; r++) {\n",
    "        for(int c=0; c<6; c++) {\n",
    "            cout<<setw(4)<<d[r][c];\n",
    "        }\n",
    "        cout<<endl;\n",
    "    }\n",
    "    cout<<endl;\n",
    "}"
   ]
  },
  {
   "cell_type": "markdown",
   "id": "164cff30-4653-4e5a-a0d7-e3ae54647d39",
   "metadata": {},
   "source": [
    "#### 利用迴圈把二維陣列全部填入0"
   ]
  },
  {
   "cell_type": "code",
   "execution_count": 5,
   "id": "a1dba9eb-136d-4472-aaf9-c7cf0eb95041",
   "metadata": {},
   "outputs": [
    {
     "name": "stdout",
     "output_type": "stream",
     "text": [
      "   0   0   0   0   0   0\n",
      "   0   0   0   0   0   0\n",
      "   0   0   0   0   0   0\n",
      "   0   0   0   0   0   0\n",
      "   0   0   0   0   0   0\n",
      "   0   0   0   0   0   0\n",
      "\n"
     ]
    }
   ],
   "source": [
    "int a[6][6];\n",
    "\n",
    "for(int r=0; r<5; r++) {\n",
    "    for(int c=0; c<5; c++) {\n",
    "        a[r][c] = 0;\n",
    "    }\n",
    "}\n",
    "\n",
    "dump66(a);"
   ]
  },
  {
   "cell_type": "markdown",
   "id": "1a49b0c9-703a-45b8-bc40-01f62a982d49",
   "metadata": {},
   "source": [
    "#### 把填入0的程式片段變成函數"
   ]
  },
  {
   "cell_type": "code",
   "execution_count": 6,
   "id": "4a7d0ec9-9120-4ea8-baca-c82fc546211a",
   "metadata": {},
   "outputs": [],
   "source": [
    "void zero66(int d[6][6]) {\n",
    "    for(int r=0; r<6; r++) {\n",
    "        for(int c=0; c<6; c++) {\n",
    "            d[r][c] = 0;\n",
    "        }\n",
    "    }\n",
    "}"
   ]
  },
  {
   "cell_type": "code",
   "execution_count": 7,
   "id": "a25691f4-d119-40e8-9aa3-cacb6c49f8a9",
   "metadata": {},
   "outputs": [
    {
     "name": "stdout",
     "output_type": "stream",
     "text": [
      "   0   0   0   0   0   0\n",
      "   0   0   0   0   0   0\n",
      "   0   0   0   0   0   0\n",
      "   0   0   0   0   0   0\n",
      "   0   0   0   0   0   0\n",
      "   0   0   0   0   0   0\n",
      "\n"
     ]
    }
   ],
   "source": [
    "int a[6][6];\n",
    "\n",
    "zero66(a);\n",
    "dump66(a);"
   ]
  },
  {
   "cell_type": "markdown",
   "id": "dd50916f-78d3-4856-a0b5-db17e5d03e33",
   "metadata": {},
   "source": [
    "#### 把填入0的函數再次進化成填入特定數值的函數"
   ]
  },
  {
   "cell_type": "code",
   "execution_count": 11,
   "id": "d76b3831-0bad-46b3-a9e6-eabd69e14567",
   "metadata": {},
   "outputs": [],
   "source": [
    "void fill66(int d[6][6], int val) {\n",
    "    for(int r=0; r<6; r++) {\n",
    "        for(int c=0; c<6; c++) {\n",
    "            d[r][c] = val;\n",
    "        }\n",
    "    }\n",
    "}"
   ]
  },
  {
   "cell_type": "code",
   "execution_count": 12,
   "id": "988515ca-a9c4-4689-bab3-bcb18ae72b87",
   "metadata": {},
   "outputs": [
    {
     "name": "stdout",
     "output_type": "stream",
     "text": [
      "   3   3   3   3   3   3\n",
      "   3   3   3   3   3   3\n",
      "   3   3   3   3   3   3\n",
      "   3   3   3   3   3   3\n",
      "   3   3   3   3   3   3\n",
      "   3   3   3   3   3   3\n",
      "\n"
     ]
    }
   ],
   "source": [
    "int a[6][6];\n",
    "\n",
    "fill66(a,3);\n",
    "dump66(a);"
   ]
  },
  {
   "cell_type": "markdown",
   "id": "d70a9f4b-6477-42b8-96f8-669de34e3faf",
   "metadata": {},
   "source": [
    "### 將特定數列填入 6 x 6 二維陣列的第 5 列"
   ]
  },
  {
   "cell_type": "code",
   "execution_count": 15,
   "id": "79ed5a47-f87f-4956-8a76-8731deaaafec",
   "metadata": {},
   "outputs": [
    {
     "name": "stdout",
     "output_type": "stream",
     "text": [
      "   0   0   0   0   2   0\n",
      "   0   0   0   0   4   0\n",
      "   0   0   0   0   6   0\n",
      "   0   0   0   0   8   0\n",
      "   0   0   0   0  10   0\n",
      "   0   0   0   0  12   0\n",
      "\n"
     ]
    }
   ],
   "source": [
    "int a[6][6];\n",
    "\n",
    "zero66(a);\n",
    "\n",
    "int start = 2;\n",
    "int step = 2;\n",
    "for(int r=0; r<6; r++) {\n",
    "    a[r][4] = start;\n",
    "    start+=step;\n",
    "}\n",
    "\n",
    "dump66(a);\n"
   ]
  },
  {
   "cell_type": "markdown",
   "id": "3bcc584d-02d7-48bf-ad45-e409da49912b",
   "metadata": {
    "tags": []
   },
   "source": [
    "### 將特定數列填入 6 x 6 二維陣列的第 c 列函數\n",
    "- d    ：二維陣列\n",
    "- r    ：陣列第 r 行(row)\n",
    "- start：數列的起始值\n",
    "- step ：數列的步階(間距)"
   ]
  },
  {
   "cell_type": "code",
   "execution_count": 18,
   "id": "4f6733a9-8991-494e-a126-df46f15e5f8d",
   "metadata": {},
   "outputs": [],
   "source": [
    "void seq_col(int d[6][6], int c, int start, int step) {\n",
    "    for(int r=0; r<6; r++) {\n",
    "        d[r][c] = start;\n",
    "        start+=step;\n",
    "    }\n",
    "}"
   ]
  },
  {
   "cell_type": "code",
   "execution_count": 21,
   "id": "e447fb85-a356-4d0e-adfd-cdbb4b679be4",
   "metadata": {},
   "outputs": [
    {
     "name": "stdout",
     "output_type": "stream",
     "text": [
      "   0   0   0   0   2   0\n",
      "   0   0   0   0   4   0\n",
      "   0   0   0   0   6   0\n",
      "   0   0   0   0   8   0\n",
      "   0   0   0   0  10   0\n",
      "   0   0   0   0  12   0\n",
      "\n"
     ]
    }
   ],
   "source": [
    "int a[6][6];\n",
    "\n",
    "zero66(a);\n",
    "seq_col(a,4,2,2);\n",
    "dump66(a);"
   ]
  },
  {
   "cell_type": "markdown",
   "id": "780b2ecf-2566-45bd-b82e-17e67c27575f",
   "metadata": {},
   "source": [
    "#### 使用 `seq_col(...)` 函數把每一列(column)填上特定數列"
   ]
  },
  {
   "cell_type": "code",
   "execution_count": 22,
   "id": "aac66bad-2a3e-4fba-bfef-f7d4ebb0cba3",
   "metadata": {},
   "outputs": [
    {
     "name": "stdout",
     "output_type": "stream",
     "text": [
      "   1   2   3   4   5   6\n",
      "   1   2   3   4   5   6\n",
      "   1   2   3   4   5   6\n",
      "   1   2   3   4   5   6\n",
      "   1   2   3   4   5   6\n",
      "   1   2   3   4   5   6\n",
      "\n"
     ]
    }
   ],
   "source": [
    "int a1[6][6];\n",
    "\n",
    "seq_col(a1,0,1,0);\n",
    "seq_col(a1,1,2,0);\n",
    "seq_col(a1,2,3,0);\n",
    "seq_col(a1,3,4,0);\n",
    "seq_col(a1,4,5,0);\n",
    "seq_col(a1,5,6,0);\n",
    "\n",
    "dump66(a1);"
   ]
  },
  {
   "cell_type": "markdown",
   "id": "85963b06-c5f6-439e-a5fd-1e335703c104",
   "metadata": {},
   "source": [
    "#### 使用迴圈簡化填滿陣列的動作"
   ]
  },
  {
   "cell_type": "code",
   "execution_count": 24,
   "id": "84aca7dc-377c-4cf7-8817-12b768471b07",
   "metadata": {},
   "outputs": [
    {
     "name": "stdout",
     "output_type": "stream",
     "text": [
      "   1   2   3   4   5   6\n",
      "   1   2   3   4   5   6\n",
      "   1   2   3   4   5   6\n",
      "   1   2   3   4   5   6\n",
      "   1   2   3   4   5   6\n",
      "   1   2   3   4   5   6\n",
      "\n"
     ]
    }
   ],
   "source": [
    "int a2[6][6];\n",
    "\n",
    "for(int i=0; i<6; i++)\n",
    "    seq_col(a2,i,i+1,0);\n",
    "\n",
    "dump66(a2);"
   ]
  },
  {
   "cell_type": "markdown",
   "id": "1f4ccffa-7feb-458b-ad11-0a190f37dcae",
   "metadata": {},
   "source": [
    "#### 利用迴圈變化填入有趣的數列"
   ]
  },
  {
   "cell_type": "code",
   "execution_count": 26,
   "id": "cfed1dd3-60bf-4237-bc2b-6da815fef831",
   "metadata": {},
   "outputs": [
    {
     "name": "stdout",
     "output_type": "stream",
     "text": [
      "   1   2   3   4   5   6\n",
      "   2   3   4   5   6   7\n",
      "   3   4   5   6   7   8\n",
      "   4   5   6   7   8   9\n",
      "   5   6   7   8   9  10\n",
      "   6   7   8   9  10  11\n",
      "\n"
     ]
    }
   ],
   "source": [
    "int a2[6][6];\n",
    "\n",
    "for(int i=0; i<6; i++)\n",
    "    seq_col(a2,i,i+1,1);\n",
    "\n",
    "dump66(a2);"
   ]
  },
  {
   "cell_type": "markdown",
   "id": "f5a71ed3-7ec5-4020-b3eb-68f5b66de070",
   "metadata": {},
   "source": [
    "#### 利用迴圈變化填入 6 x 6 乘法表"
   ]
  },
  {
   "cell_type": "code",
   "execution_count": 27,
   "id": "565d2d78-6f9c-4987-8763-de06dc3badf7",
   "metadata": {},
   "outputs": [
    {
     "name": "stdout",
     "output_type": "stream",
     "text": [
      "   1   2   3   4   5   6\n",
      "   2   4   6   8  10  12\n",
      "   3   6   9  12  15  18\n",
      "   4   8  12  16  20  24\n",
      "   5  10  15  20  25  30\n",
      "   6  12  18  24  30  36\n",
      "\n"
     ]
    }
   ],
   "source": [
    "int a2[6][6];\n",
    "\n",
    "for(int i=0; i<6; i++)\n",
    "    seq_col(a2,i,i+1,i+1);\n",
    "\n",
    "dump66(a2);"
   ]
  }
 ],
 "metadata": {
  "kernelspec": {
   "display_name": "C++14",
   "language": "C++14",
   "name": "xcpp14"
  },
  "language_info": {
   "codemirror_mode": "text/x-c++src",
   "file_extension": ".cpp",
   "mimetype": "text/x-c++src",
   "name": "c++",
   "version": "14"
  }
 },
 "nbformat": 4,
 "nbformat_minor": 5
}
